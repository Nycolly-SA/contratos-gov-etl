{
 "cells": [
  {
   "cell_type": "markdown",
   "id": "aaaf8497",
   "metadata": {},
   "source": [
    "Notebook responsável para realizar transformações no dataframe de contratos. Ele está sendo usado apenas para testes, código completos serão enviados para o arquivo de transform.py"
   ]
  },
  {
   "cell_type": "markdown",
   "id": "ba60ec86",
   "metadata": {},
   "source": [
    "Carregamento do arquivo bruto de contratos 👇"
   ]
  },
  {
   "cell_type": "code",
   "execution_count": 1,
   "id": "3ed49291",
   "metadata": {},
   "outputs": [
    {
     "name": "stdout",
     "output_type": "stream",
     "text": [
      "Arquivo de contratos encontrado: ..\\data\\raw\\contratos_amostra_2025-08-03.csv\n",
      "O arquivo existe? True\n",
      "\n",
      "Dataframe carregado: 12000 linhas, 39 colunas\n",
      "Primeira 5 colunas: codigoOrgao, nomeOrgao, codigoUnidadeGestora, nomeUnidadeGestora, codigoUnidadeGestoraOrigemContrato\n"
     ]
    }
   ],
   "source": [
    "from pathlib import Path\n",
    "import pandas as pd\n",
    "\n",
    "# Configura o caminho para os arquivos brutos\n",
    "raw_data_dir = Path('..') / 'data' / 'raw'\n",
    "\n",
    "# Localiza o arquivo de contratos mais recente (pelo formato de data no nome do arquivo)\n",
    "contratos_files = list(raw_data_dir.glob('contratos_amostra_*.csv'))\n",
    "\n",
    "if contratos_files:\n",
    "    # Pega o arquivo mais recente baseado na data de modificação\n",
    "    latest_contratos_file = max(contratos_files, key=lambda x: x.stat().st_mtime)\n",
    "\n",
    "    # Verificação (para debug)\n",
    "    print(f'Arquivo de contratos encontrado: {latest_contratos_file}')\n",
    "    print(f'O arquivo existe? {latest_contratos_file.exists()}')\n",
    "\n",
    "    # Carrega o Dataframe\n",
    "    df = pd.read_csv(latest_contratos_file, encoding='utf-8', low_memory=False)\n",
    "\n",
    "    # Visualiza dimensões e primeiras linhas\n",
    "    print(f'\\nDataframe carregado: {df.shape[0]} linhas, {df.shape[1]} colunas')\n",
    "    print(f'Primeira 5 colunas: {', '.join(df.columns[:5])}')\n",
    "\n",
    "else:\n",
    "    print('ERRO: Nenhum arquivo de contratos encontrado em data/raw')\n",
    "    print(f'Diretório verificado: {raw_data_dir.resolver()}')\n",
    "    print(f'O diretório existe? {raw_data_dir.exists()}')\n",
    "    print('Arquivos no diretório:', list(raw_data_dir.glob('*')))"
   ]
  },
  {
   "cell_type": "code",
   "execution_count": null,
   "id": "8e74f944",
   "metadata": {},
   "outputs": [],
   "source": [
    "df.head(10)"
   ]
  },
  {
   "cell_type": "markdown",
   "id": "9a81fb83",
   "metadata": {},
   "source": [
    "Verificação de Nulos por quantidade e porcentagem 👇"
   ]
  },
  {
   "cell_type": "code",
   "execution_count": 2,
   "id": "f8236181",
   "metadata": {},
   "outputs": [
    {
     "data": {
      "text/html": [
       "<div>\n",
       "<style scoped>\n",
       "    .dataframe tbody tr th:only-of-type {\n",
       "        vertical-align: middle;\n",
       "    }\n",
       "\n",
       "    .dataframe tbody tr th {\n",
       "        vertical-align: top;\n",
       "    }\n",
       "\n",
       "    .dataframe thead th {\n",
       "        text-align: right;\n",
       "    }\n",
       "</style>\n",
       "<table border=\"1\" class=\"dataframe\">\n",
       "  <thead>\n",
       "    <tr style=\"text-align: right;\">\n",
       "      <th></th>\n",
       "      <th>Valores Nulos</th>\n",
       "      <th>Percentual (%)</th>\n",
       "    </tr>\n",
       "  </thead>\n",
       "  <tbody>\n",
       "    <tr>\n",
       "      <th>numeroControlePncpContrato</th>\n",
       "      <td>12000</td>\n",
       "      <td>100.00</td>\n",
       "    </tr>\n",
       "    <tr>\n",
       "      <th>dataHoraExclusao</th>\n",
       "      <td>12000</td>\n",
       "      <td>100.00</td>\n",
       "    </tr>\n",
       "    <tr>\n",
       "      <th>totalDespesasAcessorias</th>\n",
       "      <td>11999</td>\n",
       "      <td>99.99</td>\n",
       "    </tr>\n",
       "    <tr>\n",
       "      <th>nomeSubcategoria</th>\n",
       "      <td>11462</td>\n",
       "      <td>95.52</td>\n",
       "    </tr>\n",
       "    <tr>\n",
       "      <th>codigoSubcategoria</th>\n",
       "      <td>11462</td>\n",
       "      <td>95.52</td>\n",
       "    </tr>\n",
       "    <tr>\n",
       "      <th>unidadesRequisitantes</th>\n",
       "      <td>10824</td>\n",
       "      <td>90.20</td>\n",
       "    </tr>\n",
       "    <tr>\n",
       "      <th>informacoesComplementares</th>\n",
       "      <td>8196</td>\n",
       "      <td>68.30</td>\n",
       "    </tr>\n",
       "    <tr>\n",
       "      <th>valorAcumulado</th>\n",
       "      <td>6287</td>\n",
       "      <td>52.39</td>\n",
       "    </tr>\n",
       "    <tr>\n",
       "      <th>codigoTipo</th>\n",
       "      <td>4997</td>\n",
       "      <td>41.64</td>\n",
       "    </tr>\n",
       "    <tr>\n",
       "      <th>nomeTipo</th>\n",
       "      <td>4997</td>\n",
       "      <td>41.64</td>\n",
       "    </tr>\n",
       "    <tr>\n",
       "      <th>numeroCompra</th>\n",
       "      <td>201</td>\n",
       "      <td>1.68</td>\n",
       "    </tr>\n",
       "    <tr>\n",
       "      <th>codigoUnidadeRealizadoraCompra</th>\n",
       "      <td>115</td>\n",
       "      <td>0.96</td>\n",
       "    </tr>\n",
       "    <tr>\n",
       "      <th>nomeUnidadeRealizadoraCompra</th>\n",
       "      <td>115</td>\n",
       "      <td>0.96</td>\n",
       "    </tr>\n",
       "    <tr>\n",
       "      <th>dataVigenciaFinal</th>\n",
       "      <td>113</td>\n",
       "      <td>0.94</td>\n",
       "    </tr>\n",
       "    <tr>\n",
       "      <th>nomeCategoria</th>\n",
       "      <td>71</td>\n",
       "      <td>0.59</td>\n",
       "    </tr>\n",
       "    <tr>\n",
       "      <th>codigoCategoria</th>\n",
       "      <td>71</td>\n",
       "      <td>0.59</td>\n",
       "    </tr>\n",
       "    <tr>\n",
       "      <th>nomeRazaoSocialFornecedor</th>\n",
       "      <td>8</td>\n",
       "      <td>0.07</td>\n",
       "    </tr>\n",
       "  </tbody>\n",
       "</table>\n",
       "</div>"
      ],
      "text/plain": [
       "                                Valores Nulos  Percentual (%)\n",
       "numeroControlePncpContrato              12000          100.00\n",
       "dataHoraExclusao                        12000          100.00\n",
       "totalDespesasAcessorias                 11999           99.99\n",
       "nomeSubcategoria                        11462           95.52\n",
       "codigoSubcategoria                      11462           95.52\n",
       "unidadesRequisitantes                   10824           90.20\n",
       "informacoesComplementares                8196           68.30\n",
       "valorAcumulado                           6287           52.39\n",
       "codigoTipo                               4997           41.64\n",
       "nomeTipo                                 4997           41.64\n",
       "numeroCompra                              201            1.68\n",
       "codigoUnidadeRealizadoraCompra            115            0.96\n",
       "nomeUnidadeRealizadoraCompra              115            0.96\n",
       "dataVigenciaFinal                         113            0.94\n",
       "nomeCategoria                              71            0.59\n",
       "codigoCategoria                            71            0.59\n",
       "nomeRazaoSocialFornecedor                   8            0.07"
      ]
     },
     "execution_count": 2,
     "metadata": {},
     "output_type": "execute_result"
    }
   ],
   "source": [
    "# Calcula contagem e percentual de nulos em cada coluna\n",
    "nulos = df.isnull().sum()\n",
    "percentual = (df.isnull().sum() / len(df) * 100).round(2)\n",
    "\n",
    "# Cria um Dataframe simples apenas com colunas que têm pelo menos um valor nulo\n",
    "colunas_com_nulos = pd.DataFrame({\n",
    "    'Valores Nulos': nulos[nulos >0],\n",
    "    'Percentual (%)': percentual[nulos > 0]\n",
    "}).sort_values('Percentual (%)', ascending=False)\n",
    "\n",
    "# Exibe o resultado\n",
    "colunas_com_nulos"
   ]
  },
  {
   "cell_type": "markdown",
   "id": "c3492e10",
   "metadata": {},
   "source": [
    "- `informacoesComplementares` -> pode ser útil para descobrir alguns nulos faltantes (ou valores errados) de outras colunas\n",
    "- `valorAcumulado` -> dá para descobrir alguns nulos baseado nas colunas 'valorGlobal', 'numeroParcelas' e 'valorParcela' (manter cuidado ao fazer isso para evitar viés de dados -> olhar melhor depois)\n",
    "- `codigoTipo` e `nomeTipo` -> analisar se convém manter ou excluir (levando em conta que mais de 90% dos registros não nulos são empenho)\n",
    "- `numeroCompra` -> é provável que não dê para repor os nulos, ver o que fazer\n",
    "- `codigoUnidadeRealizadoraCompra` e `nomeUnidadeRealizadoraCompra` -> é provável que não dê para repor nulos, mesmo vendo pelo número de contrato, continua confuso\n",
    "- `dataVigenciaFinal` -> colocar flags para sinalizar os nulos\n",
    "- `nomeCategoria` ->\n",
    "- `codigoCategoria` ->\n",
    "\n",
    "- `nomeRazaoSocialFornecedor` -> dá para descobrir os nulos baseado no 'niFornecedor'"
   ]
  },
  {
   "cell_type": "markdown",
   "id": "eecdf24d",
   "metadata": {},
   "source": [
    "Exclusão de algumas colunas 👇"
   ]
  },
  {
   "cell_type": "code",
   "execution_count": null,
   "id": "d32ff16b",
   "metadata": {},
   "outputs": [],
   "source": [
    "colunas_para_excluir = [\n",
    "    'numeroControlePncpContrato', # muitos nulos\n",
    "    'dataHoraExclusao', # muitos nulos\n",
    "    'totalDespesasAcessorias', # muitos nulos\n",
    "    'nomeSubcategoria', # muitos nulos\n",
    "    'codigoSubcategoria', # muitos nulos\n",
    "    'unidadesRequisitantes', # muitos nulos // repensar se necessário\n",
    "    \n",
    "\n",
    "\n",
    "\n",
    "\n",
    "    'contratoExcluido', # não é uma coluna de interesse\n",
    "    ]\n",
    "\n",
    "df.drop(colunas_para_excluir, axis=1, inplace=True)"
   ]
  },
  {
   "cell_type": "code",
   "execution_count": 6,
   "id": "30d95312",
   "metadata": {},
   "outputs": [
    {
     "data": {
      "text/plain": [
       "39"
      ]
     },
     "execution_count": 6,
     "metadata": {},
     "output_type": "execute_result"
    }
   ],
   "source": [
    "len(df.columns)"
   ]
  },
  {
   "cell_type": "code",
   "execution_count": 4,
   "id": "9b6168ba",
   "metadata": {},
   "outputs": [
    {
     "name": "stdout",
     "output_type": "stream",
     "text": [
      "\n",
      "Percentual de numeroCompra nulo por tipo de contrato:\n",
      "nomeTipo\n",
      "Acordo de Cooperação Técnica (ACT)    72.48\n",
      "Termo de Compromisso                  57.14\n",
      "Outros                                 9.40\n",
      "Empenho                                0.56\n",
      "Carta Contrato                         0.00\n",
      "Name: numeroCompra, dtype: float64\n"
     ]
    }
   ],
   "source": [
    "# Verifica se há relação com o tipo de contrato\n",
    "if 'nomeTipo' in df.columns:\n",
    "    # Calcular o percentual de nulos para cada grupo\n",
    "    nulos_por_tipo = df.groupby('nomeTipo')['numeroCompra'].apply(\n",
    "        lambda x: (x.isnull().sum() / len(x) * 100).round(2)\n",
    "    )\n",
    "    print(\"\\nPercentual de numeroCompra nulo por tipo de contrato:\")\n",
    "    print(nulos_por_tipo.sort_values(ascending=False).head())"
   ]
  },
  {
   "cell_type": "markdown",
   "id": "23854e92",
   "metadata": {},
   "source": [
    "- termo de compromisso (4)-> numeroCompra não se aplica, pois são doações\n",
    "- "
   ]
  }
 ],
 "metadata": {
  "kernelspec": {
   "display_name": ".venv (3.13.5)",
   "language": "python",
   "name": "python3"
  },
  "language_info": {
   "codemirror_mode": {
    "name": "ipython",
    "version": 3
   },
   "file_extension": ".py",
   "mimetype": "text/x-python",
   "name": "python",
   "nbconvert_exporter": "python",
   "pygments_lexer": "ipython3",
   "version": "3.13.5"
  }
 },
 "nbformat": 4,
 "nbformat_minor": 5
}
